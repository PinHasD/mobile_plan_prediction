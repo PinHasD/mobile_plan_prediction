{
 "cells": [
  {
   "cell_type": "markdown",
   "metadata": {},
   "source": [
    "# Mobile Plan Recommendation: Predicting Smart vs. Ultra Plans"
   ]
  },
  {
   "cell_type": "markdown",
   "metadata": {},
   "source": [
    "# Description"
   ]
  },
  {
   "cell_type": "markdown",
   "metadata": {},
   "source": [
    "This project focuses on building a classification model to predict the best plan for each customer based on their usage data, including:\n",
    "\n",
    "- Number of calls\n",
    "- Total call duration (minutes)\n",
    "- Number of text messages\n",
    "- Internet data usage (MB)\n",
    "\n",
    "Project Goals\n",
    "- Develop a machine learning model with an accuracy of at least 0.75 on test data.\n",
    "- Evaluate multiple classification models and optimize hyperparameters.\n",
    "- Conduct a sanity check to ensure the model’s performance is meaningful compared to simple baselines."
   ]
  },
  {
   "cell_type": "code",
   "execution_count": 1,
   "metadata": {},
   "outputs": [],
   "source": [
    "import pandas as pd"
   ]
  },
  {
   "cell_type": "markdown",
   "metadata": {},
   "source": [
    "## Download data and prepare it for analysis"
   ]
  },
  {
   "cell_type": "code",
   "execution_count": 2,
   "metadata": {},
   "outputs": [
    {
     "name": "stdout",
     "output_type": "stream",
     "text": [
      "<class 'pandas.core.frame.DataFrame'>\n",
      "RangeIndex: 3214 entries, 0 to 3213\n",
      "Data columns (total 5 columns):\n",
      " #   Column    Non-Null Count  Dtype  \n",
      "---  ------    --------------  -----  \n",
      " 0   calls     3214 non-null   float64\n",
      " 1   minutes   3214 non-null   float64\n",
      " 2   messages  3214 non-null   float64\n",
      " 3   mb_used   3214 non-null   float64\n",
      " 4   is_ultra  3214 non-null   int64  \n",
      "dtypes: float64(4), int64(1)\n",
      "memory usage: 125.7 KB\n"
     ]
    }
   ],
   "source": [
    "df = pd.read_csv('/datasets/users_behavior.csv')\n",
    "df.info()"
   ]
  },
  {
   "cell_type": "markdown",
   "metadata": {},
   "source": [
    "No missing values are found since all columns contain the same number of non-null values"
   ]
  },
  {
   "cell_type": "code",
   "execution_count": 3,
   "metadata": {},
   "outputs": [
    {
     "data": {
      "text/plain": [
       "0"
      ]
     },
     "execution_count": 3,
     "metadata": {},
     "output_type": "execute_result"
    }
   ],
   "source": [
    "df.duplicated().sum()"
   ]
  },
  {
   "cell_type": "markdown",
   "metadata": {},
   "source": [
    "No duplicates found"
   ]
  },
  {
   "cell_type": "code",
   "execution_count": 4,
   "metadata": {
    "scrolled": true
   },
   "outputs": [
    {
     "data": {
      "text/html": [
       "<div>\n",
       "<style scoped>\n",
       "    .dataframe tbody tr th:only-of-type {\n",
       "        vertical-align: middle;\n",
       "    }\n",
       "\n",
       "    .dataframe tbody tr th {\n",
       "        vertical-align: top;\n",
       "    }\n",
       "\n",
       "    .dataframe thead th {\n",
       "        text-align: right;\n",
       "    }\n",
       "</style>\n",
       "<table border=\"1\" class=\"dataframe\">\n",
       "  <thead>\n",
       "    <tr style=\"text-align: right;\">\n",
       "      <th></th>\n",
       "      <th>calls</th>\n",
       "      <th>minutes</th>\n",
       "      <th>messages</th>\n",
       "      <th>mb_used</th>\n",
       "      <th>is_ultra</th>\n",
       "    </tr>\n",
       "  </thead>\n",
       "  <tbody>\n",
       "    <tr>\n",
       "      <th>0</th>\n",
       "      <td>40.0</td>\n",
       "      <td>311.90</td>\n",
       "      <td>83.0</td>\n",
       "      <td>19915.42</td>\n",
       "      <td>0</td>\n",
       "    </tr>\n",
       "    <tr>\n",
       "      <th>1</th>\n",
       "      <td>85.0</td>\n",
       "      <td>516.75</td>\n",
       "      <td>56.0</td>\n",
       "      <td>22696.96</td>\n",
       "      <td>0</td>\n",
       "    </tr>\n",
       "    <tr>\n",
       "      <th>2</th>\n",
       "      <td>77.0</td>\n",
       "      <td>467.66</td>\n",
       "      <td>86.0</td>\n",
       "      <td>21060.45</td>\n",
       "      <td>0</td>\n",
       "    </tr>\n",
       "    <tr>\n",
       "      <th>3</th>\n",
       "      <td>106.0</td>\n",
       "      <td>745.53</td>\n",
       "      <td>81.0</td>\n",
       "      <td>8437.39</td>\n",
       "      <td>1</td>\n",
       "    </tr>\n",
       "    <tr>\n",
       "      <th>4</th>\n",
       "      <td>66.0</td>\n",
       "      <td>418.74</td>\n",
       "      <td>1.0</td>\n",
       "      <td>14502.75</td>\n",
       "      <td>0</td>\n",
       "    </tr>\n",
       "  </tbody>\n",
       "</table>\n",
       "</div>"
      ],
      "text/plain": [
       "   calls  minutes  messages   mb_used  is_ultra\n",
       "0   40.0   311.90      83.0  19915.42         0\n",
       "1   85.0   516.75      56.0  22696.96         0\n",
       "2   77.0   467.66      86.0  21060.45         0\n",
       "3  106.0   745.53      81.0   8437.39         1\n",
       "4   66.0   418.74       1.0  14502.75         0"
      ]
     },
     "execution_count": 4,
     "metadata": {},
     "output_type": "execute_result"
    }
   ],
   "source": [
    "df.head()"
   ]
  },
  {
   "cell_type": "markdown",
   "metadata": {},
   "source": [
    "### Conclusion:\n",
    "The dataset has been successfully loaded, and a preliminary analysis shows that all columns have valid data with no missing values or duplicates."
   ]
  },
  {
   "cell_type": "markdown",
   "metadata": {},
   "source": [
    "## Split the source data into a training set, a validation set, and a test set"
   ]
  },
  {
   "cell_type": "code",
   "execution_count": 5,
   "metadata": {},
   "outputs": [],
   "source": [
    "from sklearn.model_selection import train_test_split\n",
    "\n",
    "# split into two sets 60% and 40%\n",
    "df_train, df_test_valid = train_test_split(\n",
    "    df, \n",
    "    test_size=0.4,\n",
    "    random_state=42\n",
    ")"
   ]
  },
  {
   "cell_type": "code",
   "execution_count": 6,
   "metadata": {},
   "outputs": [],
   "source": [
    "# split 40% set in half (20% and 20%)\n",
    "df_valid, df_test = train_test_split(\n",
    "    df_test_valid, \n",
    "    test_size=0.5,\n",
    "    random_state=42\n",
    ")"
   ]
  },
  {
   "cell_type": "markdown",
   "metadata": {},
   "source": [
    "Thus we get:\n",
    "- training set (df_train): 60%\n",
    "- validation set (df_valid): 20%\n",
    "- test set (df_test)^ 20%"
   ]
  },
  {
   "cell_type": "code",
   "execution_count": 7,
   "metadata": {
    "scrolled": true
   },
   "outputs": [
    {
     "name": "stdout",
     "output_type": "stream",
     "text": [
      "<class 'pandas.core.frame.DataFrame'>\n",
      "Int64Index: 1928 entries, 2369 to 3174\n",
      "Data columns (total 5 columns):\n",
      " #   Column    Non-Null Count  Dtype  \n",
      "---  ------    --------------  -----  \n",
      " 0   calls     1928 non-null   float64\n",
      " 1   minutes   1928 non-null   float64\n",
      " 2   messages  1928 non-null   float64\n",
      " 3   mb_used   1928 non-null   float64\n",
      " 4   is_ultra  1928 non-null   int64  \n",
      "dtypes: float64(4), int64(1)\n",
      "memory usage: 90.4 KB\n"
     ]
    }
   ],
   "source": [
    "df_train.info()"
   ]
  },
  {
   "cell_type": "code",
   "execution_count": 8,
   "metadata": {},
   "outputs": [
    {
     "name": "stdout",
     "output_type": "stream",
     "text": [
      "<class 'pandas.core.frame.DataFrame'>\n",
      "Int64Index: 643 entries, 1198 to 1510\n",
      "Data columns (total 5 columns):\n",
      " #   Column    Non-Null Count  Dtype  \n",
      "---  ------    --------------  -----  \n",
      " 0   calls     643 non-null    float64\n",
      " 1   minutes   643 non-null    float64\n",
      " 2   messages  643 non-null    float64\n",
      " 3   mb_used   643 non-null    float64\n",
      " 4   is_ultra  643 non-null    int64  \n",
      "dtypes: float64(4), int64(1)\n",
      "memory usage: 30.1 KB\n"
     ]
    }
   ],
   "source": [
    "df_valid.info()"
   ]
  },
  {
   "cell_type": "code",
   "execution_count": 9,
   "metadata": {},
   "outputs": [
    {
     "name": "stdout",
     "output_type": "stream",
     "text": [
      "<class 'pandas.core.frame.DataFrame'>\n",
      "Int64Index: 643 entries, 1545 to 283\n",
      "Data columns (total 5 columns):\n",
      " #   Column    Non-Null Count  Dtype  \n",
      "---  ------    --------------  -----  \n",
      " 0   calls     643 non-null    float64\n",
      " 1   minutes   643 non-null    float64\n",
      " 2   messages  643 non-null    float64\n",
      " 3   mb_used   643 non-null    float64\n",
      " 4   is_ultra  643 non-null    int64  \n",
      "dtypes: float64(4), int64(1)\n",
      "memory usage: 30.1 KB\n"
     ]
    }
   ],
   "source": [
    "df_test.info()"
   ]
  },
  {
   "cell_type": "markdown",
   "metadata": {},
   "source": [
    "### Conclusion:\n",
    "The dataset has been properly split into training (60%), validation (20%), and test (20%) sets to ensure safe model evaluation."
   ]
  },
  {
   "cell_type": "markdown",
   "metadata": {},
   "source": [
    "## Investigate the quality of different models by changing hyperparameters"
   ]
  },
  {
   "cell_type": "markdown",
   "metadata": {},
   "source": [
    "### Separate features and target in each set"
   ]
  },
  {
   "cell_type": "code",
   "execution_count": 10,
   "metadata": {},
   "outputs": [],
   "source": [
    "# training set\n",
    "features_train = df_train.drop(['is_ultra'], axis=1)\n",
    "target_train = df_train['is_ultra']\n",
    "\n",
    "# validation set\n",
    "features_valid = df_valid.drop(['is_ultra'], axis=1)\n",
    "target_valid = df_valid['is_ultra']\n",
    "\n",
    "# test set\n",
    "features_test = df_test.drop(['is_ultra'], axis=1)\n",
    "target_test = df_test['is_ultra']\n"
   ]
  },
  {
   "cell_type": "markdown",
   "metadata": {},
   "source": [
    "### Decision Tree (change max depth)"
   ]
  },
  {
   "cell_type": "code",
   "execution_count": 11,
   "metadata": {},
   "outputs": [
    {
     "name": "stdout",
     "output_type": "stream",
     "text": [
      "max_depth = 1 : 0.7309486780715396\n",
      "max_depth = 2 : 0.7822706065318819\n",
      "max_depth = 3 : 0.7916018662519441\n",
      "max_depth = 4 : 0.7807153965785381\n",
      "max_depth = 5 : 0.7729393468118196\n"
     ]
    }
   ],
   "source": [
    "from sklearn.tree import DecisionTreeClassifier\n",
    "from sklearn.metrics import accuracy_score\n",
    "\n",
    "# use different depth (from 1 to 6) and print model accuracy\n",
    "for depth in range(1, 6):\n",
    "\tdtc_model = DecisionTreeClassifier(random_state=42, max_depth=depth) \n",
    "\tdtc_model.fit(features_train,target_train) \n",
    "\tpredictions = dtc_model.predict(features_valid) \n",
    "\tprint('max_depth =', depth,':', accuracy_score(target_valid,predictions))"
   ]
  },
  {
   "cell_type": "markdown",
   "metadata": {},
   "source": [
    "#### Conclusion: max_depth = 3 shows the best accuracy"
   ]
  },
  {
   "cell_type": "markdown",
   "metadata": {},
   "source": [
    "### Random Forest (change number of estimators)"
   ]
  },
  {
   "cell_type": "code",
   "execution_count": 12,
   "metadata": {},
   "outputs": [
    {
     "name": "stdout",
     "output_type": "stream",
     "text": [
      "Accuracy of the best model on the validation set (n_estimators = 4): 0.7916018662519441\n"
     ]
    },
    {
     "data": {
      "text/plain": [
       "RandomForestClassifier(n_estimators=4, random_state=42)"
      ]
     },
     "execution_count": 12,
     "metadata": {},
     "output_type": "execute_result"
    }
   ],
   "source": [
    "from sklearn.ensemble import RandomForestClassifier\n",
    "\n",
    "best_score = 0\n",
    "best_est = 0\n",
    "\n",
    "# choose hyperparameter range (number of trees)\n",
    "for rfc_est in range(1, 11): \n",
    "    rfc_model = RandomForestClassifier(random_state=42, n_estimators=rfc_est) \n",
    "    rfc_model.fit(features_train, target_train) \n",
    "    rfc_score = rfc_model.score(features_valid, target_valid)\n",
    "    if rfc_score > best_score:\n",
    "        # save the best accuracy score on validation set\n",
    "        best_score = rfc_score \n",
    "        # save number of estimators corresponding to the best accuracy score\n",
    "        best_est = rfc_est \n",
    "\n",
    "print(\"Accuracy of the best model on the validation set (n_estimators = {}): {}\".format(best_est, best_score))\n",
    "\n",
    "# calculate the final random forest model\n",
    "final_rfc_model = RandomForestClassifier(random_state=42, n_estimators=best_est) \n",
    "final_rfc_model.fit(features_train, target_train)"
   ]
  },
  {
   "cell_type": "markdown",
   "metadata": {},
   "source": [
    "#### Conclusion: number of estimators = 4 shows the best accuracy, with is idendical to Decision Tree max_depth = 3"
   ]
  },
  {
   "cell_type": "markdown",
   "metadata": {},
   "source": [
    "### Logistic Regression"
   ]
  },
  {
   "cell_type": "code",
   "execution_count": 13,
   "metadata": {},
   "outputs": [
    {
     "name": "stdout",
     "output_type": "stream",
     "text": [
      "Accuracy of the logistic regression model on the training set: 0.7136929460580913\n",
      "Accuracy of the logistic regression model on the validation set: 0.7200622083981337\n"
     ]
    }
   ],
   "source": [
    "from sklearn.linear_model import LogisticRegression\n",
    "\n",
    "# initialize logistic regression constructor with parameters random_state=42 and solver='liblinear'\n",
    "lr_model =  LogisticRegression (random_state=42, solver='liblinear') \n",
    "lr_model.fit(features_train, target_train)  \n",
    "# calculate accuracy score on training set\n",
    "lr_score_train = lr_model.score(features_train, target_train) \n",
    "# calculate accuracy score on validation set\n",
    "lr_score_valid = lr_model.score(features_valid, target_valid) \n",
    "\n",
    "\n",
    "print(\"Accuracy of the logistic regression model on the training set:\", lr_score_train)\n",
    "print(\"Accuracy of the logistic regression model on the validation set:\", lr_score_valid)"
   ]
  },
  {
   "cell_type": "markdown",
   "metadata": {},
   "source": [
    "#### Conclusion: Logistic Regression does not show good accuracy"
   ]
  },
  {
   "cell_type": "markdown",
   "metadata": {},
   "source": [
    "### Conclusion: \n",
    "Multiple models have been trained, including Decision Tree, Random Forest, and Logistic Regression with different hyperparameters. The best model is selected based on validation accuracy, which is __Random Forest__"
   ]
  },
  {
   "cell_type": "markdown",
   "metadata": {},
   "source": [
    "## Check the quality of the model using the test set"
   ]
  },
  {
   "cell_type": "code",
   "execution_count": 14,
   "metadata": {},
   "outputs": [],
   "source": [
    "# get predictions using final random forest model on the test set\n",
    "predictions_test = final_rfc_model.predict(features_test)\n",
    "# calculate accuracy\n",
    "accuracy_test = accuracy_score(target_test, predictions_test)"
   ]
  },
  {
   "cell_type": "code",
   "execution_count": 15,
   "metadata": {},
   "outputs": [
    {
     "name": "stdout",
     "output_type": "stream",
     "text": [
      "RFC testing score: 0.8009331259720062\n"
     ]
    }
   ],
   "source": [
    "print(\"RFC testing score:\", accuracy_test)"
   ]
  },
  {
   "cell_type": "markdown",
   "metadata": {},
   "source": [
    "### Conclusion:\n",
    "The model's accuracy on test set is better than on a training and validation sets."
   ]
  },
  {
   "cell_type": "markdown",
   "metadata": {},
   "source": [
    "## Sanity check the model"
   ]
  },
  {
   "cell_type": "markdown",
   "metadata": {},
   "source": [
    "To sanity check our model we can compare the resulting testing score to a baseline model"
   ]
  },
  {
   "cell_type": "markdown",
   "metadata": {},
   "source": [
    "### Majority class classifier"
   ]
  },
  {
   "cell_type": "code",
   "execution_count": 16,
   "metadata": {},
   "outputs": [
    {
     "data": {
      "text/plain": [
       "is_ultra\n",
       "0    2229\n",
       "1     985\n",
       "dtype: int64"
      ]
     },
     "execution_count": 16,
     "metadata": {},
     "output_type": "execute_result"
    }
   ],
   "source": [
    "is_ultra_qty = df.pivot_table(index='is_ultra', aggfunc='size')\n",
    "is_ultra_qty"
   ]
  },
  {
   "cell_type": "markdown",
   "metadata": {},
   "source": [
    "Since the model is imbalanced (2229 '0' against 985 '1') we can use majority class classifier, i.e. replace all target values with the mosty common one, which is '0' in our case."
   ]
  },
  {
   "cell_type": "code",
   "execution_count": 17,
   "metadata": {},
   "outputs": [],
   "source": [
    "baseline_predictions = target_test.replace(1,0)"
   ]
  },
  {
   "cell_type": "code",
   "execution_count": 18,
   "metadata": {},
   "outputs": [
    {
     "name": "stdout",
     "output_type": "stream",
     "text": [
      "Baseline accuracy: 0.6967340590979783\n"
     ]
    }
   ],
   "source": [
    "baseline_accuracy = accuracy_score(target_test, baseline_predictions)\n",
    "print(\"Baseline accuracy:\", baseline_accuracy)"
   ]
  },
  {
   "cell_type": "markdown",
   "metadata": {},
   "source": [
    "#### Conclusion: the testing score is significantly higher than the baseline accuracy (Majority class classifier)"
   ]
  },
  {
   "cell_type": "markdown",
   "metadata": {},
   "source": [
    "## Overall Conclusion"
   ]
  },
  {
   "cell_type": "markdown",
   "metadata": {},
   "source": [
    "In this project, we developed a classification model to recommend the best mobile plan (Smart or Ultra) based on user behavior. Here are the key milestones:\n",
    "\n",
    "- Data Exploration & Preprocessing\n",
    "\n",
    "    - The dataset contained no missing values or duplicates.\n",
    "    - Features such as calls, minutes, messages, and internet usage were used for prediction.\n",
    "    - The data was properly split into training, validation, and test sets.\n",
    "\n",
    "\n",
    "-  Model Training & Evaluation\n",
    "\n",
    "    - Decision Tree, Random Forest, and Logistic Regression were tested.\n",
    "    - Random Forest achieved the best validation accuracy.\n",
    "    - Hyperparameter tuning improved model performance.\n",
    "\n",
    "\n",
    "- Final Testing & Sanity Check\n",
    "\n",
    "    - The final model's test accuracy exceeded 0.75, meeting the project's goal.\n",
    "    - A sanity check was performed using a majority-class baseline, which achieved only 69.67% accuracy.\n",
    "\n",
    "Since the final model significantly outperformed the baseline, we can confirm that it has learned meaningful patterns.\n",
    "\n",
    "\n",
    "- General conclusion\n",
    "\n",
    "The project successfully built a reliable mobile plan recommendation system. Megaline can use this model to optimize customer plans."
   ]
  },
  {
   "cell_type": "code",
   "execution_count": null,
   "metadata": {},
   "outputs": [],
   "source": []
  }
 ],
 "metadata": {
  "ExecuteTimeLog": [
   {
    "duration": 327,
    "start_time": "2025-03-10T20:28:29.701Z"
   },
   {
    "duration": 596,
    "start_time": "2025-03-10T20:29:46.931Z"
   },
   {
    "duration": 20,
    "start_time": "2025-03-10T20:30:16.139Z"
   },
   {
    "duration": 155,
    "start_time": "2025-03-11T20:56:54.485Z"
   },
   {
    "duration": 327,
    "start_time": "2025-03-11T20:57:14.294Z"
   },
   {
    "duration": 16,
    "start_time": "2025-03-11T20:57:14.623Z"
   },
   {
    "duration": 11,
    "start_time": "2025-03-11T20:57:14.641Z"
   },
   {
    "duration": 178,
    "start_time": "2025-03-11T21:43:30.253Z"
   },
   {
    "duration": 536,
    "start_time": "2025-03-11T21:43:54.138Z"
   },
   {
    "duration": 843,
    "start_time": "2025-03-12T13:33:44.222Z"
   },
   {
    "duration": 308,
    "start_time": "2025-03-12T13:34:03.224Z"
   },
   {
    "duration": 22,
    "start_time": "2025-03-12T13:34:03.535Z"
   },
   {
    "duration": 15,
    "start_time": "2025-03-12T13:34:03.560Z"
   },
   {
    "duration": 477,
    "start_time": "2025-03-12T13:34:03.576Z"
   },
   {
    "duration": 5,
    "start_time": "2025-03-12T13:34:41.427Z"
   },
   {
    "duration": 5,
    "start_time": "2025-03-12T13:34:52.099Z"
   },
   {
    "duration": 286,
    "start_time": "2025-03-12T13:35:11.241Z"
   },
   {
    "duration": 18,
    "start_time": "2025-03-12T13:35:11.530Z"
   },
   {
    "duration": 12,
    "start_time": "2025-03-12T13:35:11.551Z"
   },
   {
    "duration": 467,
    "start_time": "2025-03-12T13:35:11.564Z"
   },
   {
    "duration": 8,
    "start_time": "2025-03-12T13:35:12.034Z"
   },
   {
    "duration": 9,
    "start_time": "2025-03-12T13:35:27.175Z"
   },
   {
    "duration": 10,
    "start_time": "2025-03-12T13:35:48.460Z"
   },
   {
    "duration": 347,
    "start_time": "2025-03-12T13:39:18.408Z"
   },
   {
    "duration": 16,
    "start_time": "2025-03-12T13:39:18.757Z"
   },
   {
    "duration": 14,
    "start_time": "2025-03-12T13:39:18.775Z"
   },
   {
    "duration": 564,
    "start_time": "2025-03-12T13:39:18.791Z"
   },
   {
    "duration": 4,
    "start_time": "2025-03-12T13:39:19.357Z"
   },
   {
    "duration": 9,
    "start_time": "2025-03-12T13:39:19.363Z"
   },
   {
    "duration": 8,
    "start_time": "2025-03-12T13:39:19.373Z"
   },
   {
    "duration": 9,
    "start_time": "2025-03-12T13:39:51.572Z"
   },
   {
    "duration": 281,
    "start_time": "2025-03-12T17:55:40.747Z"
   },
   {
    "duration": 18,
    "start_time": "2025-03-12T17:55:41.030Z"
   },
   {
    "duration": 11,
    "start_time": "2025-03-12T17:55:41.049Z"
   },
   {
    "duration": 508,
    "start_time": "2025-03-12T17:55:41.062Z"
   },
   {
    "duration": 3,
    "start_time": "2025-03-12T17:55:41.572Z"
   },
   {
    "duration": 8,
    "start_time": "2025-03-12T17:55:41.577Z"
   },
   {
    "duration": 8,
    "start_time": "2025-03-12T17:55:41.587Z"
   },
   {
    "duration": 9,
    "start_time": "2025-03-12T17:55:41.597Z"
   },
   {
    "duration": 322,
    "start_time": "2025-03-14T19:29:12.528Z"
   },
   {
    "duration": 16,
    "start_time": "2025-03-14T19:29:12.852Z"
   },
   {
    "duration": 12,
    "start_time": "2025-03-14T19:29:12.869Z"
   },
   {
    "duration": 455,
    "start_time": "2025-03-14T19:29:12.882Z"
   },
   {
    "duration": 5,
    "start_time": "2025-03-14T19:29:13.340Z"
   },
   {
    "duration": 8,
    "start_time": "2025-03-14T19:29:13.346Z"
   },
   {
    "duration": 8,
    "start_time": "2025-03-14T19:29:13.356Z"
   },
   {
    "duration": 8,
    "start_time": "2025-03-14T19:29:13.366Z"
   },
   {
    "duration": 918,
    "start_time": "2025-03-14T19:29:13.376Z"
   },
   {
    "duration": 17,
    "start_time": "2025-03-14T19:30:31.255Z"
   },
   {
    "duration": 5,
    "start_time": "2025-03-14T19:31:00.964Z"
   },
   {
    "duration": 49,
    "start_time": "2025-03-14T19:32:26.830Z"
   },
   {
    "duration": 212,
    "start_time": "2025-03-14T19:33:33.765Z"
   },
   {
    "duration": 330,
    "start_time": "2025-03-14T19:38:54.329Z"
   },
   {
    "duration": 13,
    "start_time": "2025-03-14T19:38:54.661Z"
   },
   {
    "duration": 11,
    "start_time": "2025-03-14T19:38:54.676Z"
   },
   {
    "duration": 440,
    "start_time": "2025-03-14T19:38:54.689Z"
   },
   {
    "duration": 4,
    "start_time": "2025-03-14T19:38:55.132Z"
   },
   {
    "duration": 9,
    "start_time": "2025-03-14T19:38:55.137Z"
   },
   {
    "duration": 8,
    "start_time": "2025-03-14T19:38:55.147Z"
   },
   {
    "duration": 8,
    "start_time": "2025-03-14T19:38:55.156Z"
   },
   {
    "duration": 5,
    "start_time": "2025-03-14T19:38:55.165Z"
   },
   {
    "duration": 81,
    "start_time": "2025-03-14T19:38:55.172Z"
   },
   {
    "duration": 218,
    "start_time": "2025-03-14T19:38:55.255Z"
   },
   {
    "duration": 10,
    "start_time": "2025-03-14T19:38:55.475Z"
   },
   {
    "duration": 358,
    "start_time": "2025-03-15T11:51:42.243Z"
   },
   {
    "duration": 22,
    "start_time": "2025-03-15T11:51:42.603Z"
   },
   {
    "duration": 12,
    "start_time": "2025-03-15T11:51:42.627Z"
   },
   {
    "duration": 512,
    "start_time": "2025-03-15T11:51:42.640Z"
   },
   {
    "duration": 4,
    "start_time": "2025-03-15T11:51:43.154Z"
   },
   {
    "duration": 8,
    "start_time": "2025-03-15T11:51:43.160Z"
   },
   {
    "duration": 10,
    "start_time": "2025-03-15T11:51:43.170Z"
   },
   {
    "duration": 8,
    "start_time": "2025-03-15T11:51:43.182Z"
   },
   {
    "duration": 4,
    "start_time": "2025-03-15T11:51:43.193Z"
   },
   {
    "duration": 52,
    "start_time": "2025-03-15T11:51:43.224Z"
   },
   {
    "duration": 246,
    "start_time": "2025-03-15T11:51:43.278Z"
   },
   {
    "duration": 11,
    "start_time": "2025-03-15T11:51:43.525Z"
   },
   {
    "duration": 343,
    "start_time": "2025-03-15T13:56:45.719Z"
   },
   {
    "duration": 24,
    "start_time": "2025-03-15T13:56:46.064Z"
   },
   {
    "duration": 16,
    "start_time": "2025-03-15T13:56:46.093Z"
   },
   {
    "duration": 543,
    "start_time": "2025-03-15T13:56:46.115Z"
   },
   {
    "duration": 5,
    "start_time": "2025-03-15T13:56:46.661Z"
   },
   {
    "duration": 9,
    "start_time": "2025-03-15T13:56:46.668Z"
   },
   {
    "duration": 8,
    "start_time": "2025-03-15T13:56:46.679Z"
   },
   {
    "duration": 8,
    "start_time": "2025-03-15T13:56:46.689Z"
   },
   {
    "duration": 29,
    "start_time": "2025-03-15T13:56:46.699Z"
   },
   {
    "duration": 49,
    "start_time": "2025-03-15T13:56:46.729Z"
   },
   {
    "duration": 267,
    "start_time": "2025-03-15T13:56:46.780Z"
   },
   {
    "duration": 14,
    "start_time": "2025-03-15T13:56:47.049Z"
   },
   {
    "duration": 5,
    "start_time": "2025-03-15T14:03:03.261Z"
   },
   {
    "duration": 2,
    "start_time": "2025-03-15T14:03:40.168Z"
   },
   {
    "duration": 323,
    "start_time": "2025-03-16T17:48:27.372Z"
   },
   {
    "duration": 20,
    "start_time": "2025-03-16T17:48:27.698Z"
   },
   {
    "duration": 16,
    "start_time": "2025-03-16T17:48:27.719Z"
   },
   {
    "duration": 504,
    "start_time": "2025-03-16T17:48:27.737Z"
   },
   {
    "duration": 3,
    "start_time": "2025-03-16T17:48:28.244Z"
   },
   {
    "duration": 8,
    "start_time": "2025-03-16T17:48:28.249Z"
   },
   {
    "duration": 8,
    "start_time": "2025-03-16T17:48:28.258Z"
   },
   {
    "duration": 8,
    "start_time": "2025-03-16T17:48:28.268Z"
   },
   {
    "duration": 4,
    "start_time": "2025-03-16T17:48:28.278Z"
   },
   {
    "duration": 84,
    "start_time": "2025-03-16T17:48:28.285Z"
   },
   {
    "duration": 229,
    "start_time": "2025-03-16T17:48:28.371Z"
   },
   {
    "duration": 10,
    "start_time": "2025-03-16T17:48:28.602Z"
   },
   {
    "duration": 19,
    "start_time": "2025-03-16T17:48:28.614Z"
   },
   {
    "duration": 3,
    "start_time": "2025-03-16T17:48:28.634Z"
   },
   {
    "duration": 489,
    "start_time": "2025-03-16T18:07:39.107Z"
   },
   {
    "duration": 316,
    "start_time": "2025-03-17T10:52:05.466Z"
   },
   {
    "duration": 20,
    "start_time": "2025-03-17T10:52:05.784Z"
   },
   {
    "duration": 11,
    "start_time": "2025-03-17T10:52:05.806Z"
   },
   {
    "duration": 501,
    "start_time": "2025-03-17T10:52:05.819Z"
   },
   {
    "duration": 4,
    "start_time": "2025-03-17T10:52:06.321Z"
   },
   {
    "duration": 10,
    "start_time": "2025-03-17T10:52:06.327Z"
   },
   {
    "duration": 8,
    "start_time": "2025-03-17T10:52:06.339Z"
   },
   {
    "duration": 8,
    "start_time": "2025-03-17T10:52:06.349Z"
   },
   {
    "duration": 4,
    "start_time": "2025-03-17T10:52:06.359Z"
   },
   {
    "duration": 79,
    "start_time": "2025-03-17T10:52:06.366Z"
   },
   {
    "duration": 230,
    "start_time": "2025-03-17T10:52:06.446Z"
   },
   {
    "duration": 10,
    "start_time": "2025-03-17T10:52:06.677Z"
   },
   {
    "duration": 5,
    "start_time": "2025-03-17T10:52:06.688Z"
   },
   {
    "duration": 3,
    "start_time": "2025-03-17T10:52:06.695Z"
   },
   {
    "duration": 6,
    "start_time": "2025-03-17T10:52:59.080Z"
   },
   {
    "duration": 6,
    "start_time": "2025-03-17T10:54:16.971Z"
   },
   {
    "duration": 309,
    "start_time": "2025-03-17T13:55:50.758Z"
   },
   {
    "duration": 20,
    "start_time": "2025-03-17T13:55:51.070Z"
   },
   {
    "duration": 8,
    "start_time": "2025-03-17T13:55:51.092Z"
   },
   {
    "duration": 11,
    "start_time": "2025-03-17T13:55:51.102Z"
   },
   {
    "duration": 502,
    "start_time": "2025-03-17T13:55:51.115Z"
   },
   {
    "duration": 4,
    "start_time": "2025-03-17T13:55:51.619Z"
   },
   {
    "duration": 8,
    "start_time": "2025-03-17T13:55:51.625Z"
   },
   {
    "duration": 8,
    "start_time": "2025-03-17T13:55:51.635Z"
   },
   {
    "duration": 8,
    "start_time": "2025-03-17T13:55:51.644Z"
   },
   {
    "duration": 5,
    "start_time": "2025-03-17T13:55:51.654Z"
   },
   {
    "duration": 50,
    "start_time": "2025-03-17T13:55:51.687Z"
   },
   {
    "duration": 240,
    "start_time": "2025-03-17T13:55:51.739Z"
   },
   {
    "duration": 10,
    "start_time": "2025-03-17T13:55:51.987Z"
   },
   {
    "duration": 5,
    "start_time": "2025-03-17T13:55:51.998Z"
   },
   {
    "duration": 4,
    "start_time": "2025-03-17T13:55:52.004Z"
   },
   {
    "duration": 314,
    "start_time": "2025-03-17T19:14:37.081Z"
   },
   {
    "duration": 19,
    "start_time": "2025-03-17T19:14:37.396Z"
   },
   {
    "duration": 8,
    "start_time": "2025-03-17T19:14:37.416Z"
   },
   {
    "duration": 18,
    "start_time": "2025-03-17T19:14:37.426Z"
   },
   {
    "duration": 494,
    "start_time": "2025-03-17T19:14:37.445Z"
   },
   {
    "duration": 4,
    "start_time": "2025-03-17T19:14:37.941Z"
   },
   {
    "duration": 8,
    "start_time": "2025-03-17T19:14:37.947Z"
   },
   {
    "duration": 8,
    "start_time": "2025-03-17T19:14:37.957Z"
   },
   {
    "duration": 8,
    "start_time": "2025-03-17T19:14:37.966Z"
   },
   {
    "duration": 4,
    "start_time": "2025-03-17T19:14:37.978Z"
   },
   {
    "duration": 78,
    "start_time": "2025-03-17T19:14:37.984Z"
   },
   {
    "duration": 243,
    "start_time": "2025-03-17T19:14:38.064Z"
   },
   {
    "duration": 10,
    "start_time": "2025-03-17T19:14:38.309Z"
   },
   {
    "duration": 5,
    "start_time": "2025-03-17T19:14:38.321Z"
   },
   {
    "duration": 3,
    "start_time": "2025-03-17T19:14:38.342Z"
   },
   {
    "duration": 2,
    "start_time": "2025-03-17T19:24:19.195Z"
   },
   {
    "duration": 215,
    "start_time": "2025-03-17T20:28:44.938Z"
   },
   {
    "duration": 275,
    "start_time": "2025-03-17T20:28:58.830Z"
   },
   {
    "duration": 14,
    "start_time": "2025-03-17T20:28:59.108Z"
   },
   {
    "duration": 6,
    "start_time": "2025-03-17T20:28:59.124Z"
   },
   {
    "duration": 17,
    "start_time": "2025-03-17T20:28:59.133Z"
   },
   {
    "duration": 476,
    "start_time": "2025-03-17T20:28:59.151Z"
   },
   {
    "duration": 4,
    "start_time": "2025-03-17T20:28:59.629Z"
   },
   {
    "duration": 14,
    "start_time": "2025-03-17T20:28:59.635Z"
   },
   {
    "duration": 8,
    "start_time": "2025-03-17T20:28:59.650Z"
   },
   {
    "duration": 8,
    "start_time": "2025-03-17T20:28:59.659Z"
   },
   {
    "duration": 4,
    "start_time": "2025-03-17T20:28:59.671Z"
   },
   {
    "duration": 70,
    "start_time": "2025-03-17T20:28:59.676Z"
   },
   {
    "duration": 231,
    "start_time": "2025-03-17T20:28:59.747Z"
   },
   {
    "duration": 11,
    "start_time": "2025-03-17T20:28:59.980Z"
   },
   {
    "duration": 5,
    "start_time": "2025-03-17T20:28:59.993Z"
   },
   {
    "duration": 4,
    "start_time": "2025-03-17T20:28:59.999Z"
   },
   {
    "duration": 244,
    "start_time": "2025-03-17T20:29:00.005Z"
   },
   {
    "duration": 4,
    "start_time": "2025-03-17T20:29:26.280Z"
   },
   {
    "duration": 4,
    "start_time": "2025-03-17T20:30:37.453Z"
   },
   {
    "duration": 317,
    "start_time": "2025-03-18T08:31:01.174Z"
   },
   {
    "duration": 19,
    "start_time": "2025-03-18T08:31:01.493Z"
   },
   {
    "duration": 7,
    "start_time": "2025-03-18T08:31:01.514Z"
   },
   {
    "duration": 9,
    "start_time": "2025-03-18T08:31:01.522Z"
   },
   {
    "duration": 442,
    "start_time": "2025-03-18T08:31:01.533Z"
   },
   {
    "duration": 4,
    "start_time": "2025-03-18T08:31:01.976Z"
   },
   {
    "duration": 8,
    "start_time": "2025-03-18T08:31:01.982Z"
   },
   {
    "duration": 7,
    "start_time": "2025-03-18T08:31:01.992Z"
   },
   {
    "duration": 7,
    "start_time": "2025-03-18T08:31:02.000Z"
   },
   {
    "duration": 5,
    "start_time": "2025-03-18T08:31:02.009Z"
   },
   {
    "duration": 81,
    "start_time": "2025-03-18T08:31:02.015Z"
   },
   {
    "duration": 226,
    "start_time": "2025-03-18T08:31:02.098Z"
   },
   {
    "duration": 9,
    "start_time": "2025-03-18T08:31:02.327Z"
   },
   {
    "duration": 5,
    "start_time": "2025-03-18T08:31:02.338Z"
   },
   {
    "duration": 3,
    "start_time": "2025-03-18T08:31:02.344Z"
   },
   {
    "duration": 4,
    "start_time": "2025-03-18T08:31:02.371Z"
   },
   {
    "duration": 4,
    "start_time": "2025-03-18T08:31:02.376Z"
   },
   {
    "duration": 7,
    "start_time": "2025-03-18T08:47:57.717Z"
   },
   {
    "duration": 4,
    "start_time": "2025-03-18T09:10:15.259Z"
   },
   {
    "duration": 5,
    "start_time": "2025-03-18T09:12:53.412Z"
   },
   {
    "duration": 6,
    "start_time": "2025-03-18T09:14:51.621Z"
   },
   {
    "duration": 4,
    "start_time": "2025-03-18T09:15:46.244Z"
   },
   {
    "duration": 4,
    "start_time": "2025-03-18T09:22:53.674Z"
   },
   {
    "duration": 3,
    "start_time": "2025-03-18T09:26:02.161Z"
   },
   {
    "duration": 327,
    "start_time": "2025-03-18T17:05:08.841Z"
   },
   {
    "duration": 19,
    "start_time": "2025-03-18T17:05:09.170Z"
   },
   {
    "duration": 7,
    "start_time": "2025-03-18T17:05:09.190Z"
   },
   {
    "duration": 9,
    "start_time": "2025-03-18T17:05:09.199Z"
   },
   {
    "duration": 493,
    "start_time": "2025-03-18T17:05:09.210Z"
   },
   {
    "duration": 4,
    "start_time": "2025-03-18T17:05:09.705Z"
   },
   {
    "duration": 19,
    "start_time": "2025-03-18T17:05:09.710Z"
   },
   {
    "duration": 9,
    "start_time": "2025-03-18T17:05:09.730Z"
   },
   {
    "duration": 7,
    "start_time": "2025-03-18T17:05:09.741Z"
   },
   {
    "duration": 7,
    "start_time": "2025-03-18T17:05:09.752Z"
   },
   {
    "duration": 70,
    "start_time": "2025-03-18T17:05:09.760Z"
   },
   {
    "duration": 233,
    "start_time": "2025-03-18T17:05:09.832Z"
   },
   {
    "duration": 10,
    "start_time": "2025-03-18T17:05:10.067Z"
   },
   {
    "duration": 4,
    "start_time": "2025-03-18T17:05:10.079Z"
   },
   {
    "duration": 3,
    "start_time": "2025-03-18T17:05:10.084Z"
   },
   {
    "duration": 3,
    "start_time": "2025-03-18T17:05:10.089Z"
   },
   {
    "duration": 31,
    "start_time": "2025-03-18T17:05:10.094Z"
   },
   {
    "duration": 6,
    "start_time": "2025-03-18T17:05:10.127Z"
   },
   {
    "duration": 2,
    "start_time": "2025-03-18T17:05:10.135Z"
   },
   {
    "duration": 3,
    "start_time": "2025-03-18T17:05:10.139Z"
   },
   {
    "duration": 235,
    "start_time": "2025-03-18T17:05:10.144Z"
   },
   {
    "duration": 284,
    "start_time": "2025-03-18T18:23:34.306Z"
   },
   {
    "duration": 15,
    "start_time": "2025-03-18T18:23:34.592Z"
   },
   {
    "duration": 15,
    "start_time": "2025-03-18T18:23:34.609Z"
   },
   {
    "duration": 11,
    "start_time": "2025-03-18T18:23:34.626Z"
   },
   {
    "duration": 509,
    "start_time": "2025-03-18T18:23:34.639Z"
   },
   {
    "duration": 5,
    "start_time": "2025-03-18T18:23:35.149Z"
   },
   {
    "duration": 9,
    "start_time": "2025-03-18T18:23:35.156Z"
   },
   {
    "duration": 9,
    "start_time": "2025-03-18T18:23:35.166Z"
   },
   {
    "duration": 8,
    "start_time": "2025-03-18T18:23:35.177Z"
   },
   {
    "duration": 5,
    "start_time": "2025-03-18T18:23:35.188Z"
   },
   {
    "duration": 81,
    "start_time": "2025-03-18T18:23:35.194Z"
   },
   {
    "duration": 253,
    "start_time": "2025-03-18T18:23:35.277Z"
   },
   {
    "duration": 10,
    "start_time": "2025-03-18T18:23:35.532Z"
   },
   {
    "duration": 7,
    "start_time": "2025-03-18T18:23:35.544Z"
   },
   {
    "duration": 3,
    "start_time": "2025-03-18T18:23:35.552Z"
   },
   {
    "duration": 6,
    "start_time": "2025-03-18T18:23:35.558Z"
   },
   {
    "duration": 3,
    "start_time": "2025-03-18T18:23:35.565Z"
   },
   {
    "duration": 261,
    "start_time": "2025-03-18T18:23:35.570Z"
   },
   {
    "duration": 7,
    "start_time": "2025-03-18T18:23:45.226Z"
   },
   {
    "duration": 313,
    "start_time": "2025-03-18T18:23:58.877Z"
   },
   {
    "duration": 14,
    "start_time": "2025-03-18T18:23:59.193Z"
   },
   {
    "duration": 19,
    "start_time": "2025-03-18T18:23:59.209Z"
   },
   {
    "duration": 10,
    "start_time": "2025-03-18T18:23:59.230Z"
   },
   {
    "duration": 575,
    "start_time": "2025-03-18T18:23:59.243Z"
   },
   {
    "duration": 6,
    "start_time": "2025-03-18T18:23:59.821Z"
   },
   {
    "duration": 11,
    "start_time": "2025-03-18T18:23:59.829Z"
   },
   {
    "duration": 13,
    "start_time": "2025-03-18T18:23:59.842Z"
   },
   {
    "duration": 9,
    "start_time": "2025-03-18T18:23:59.857Z"
   },
   {
    "duration": 6,
    "start_time": "2025-03-18T18:23:59.868Z"
   },
   {
    "duration": 99,
    "start_time": "2025-03-18T18:23:59.876Z"
   },
   {
    "duration": 255,
    "start_time": "2025-03-18T18:23:59.977Z"
   },
   {
    "duration": 11,
    "start_time": "2025-03-18T18:24:00.234Z"
   },
   {
    "duration": 7,
    "start_time": "2025-03-18T18:24:00.249Z"
   },
   {
    "duration": 2,
    "start_time": "2025-03-18T18:24:00.258Z"
   },
   {
    "duration": 5,
    "start_time": "2025-03-18T18:24:00.262Z"
   },
   {
    "duration": 3,
    "start_time": "2025-03-18T18:24:00.269Z"
   },
   {
    "duration": 4,
    "start_time": "2025-03-18T18:24:00.273Z"
   },
   {
    "duration": 19,
    "start_time": "2025-03-18T18:56:25.819Z"
   }
  ],
  "kernelspec": {
   "display_name": "Python 3 (ipykernel)",
   "language": "python",
   "name": "python3"
  },
  "language_info": {
   "codemirror_mode": {
    "name": "ipython",
    "version": 3
   },
   "file_extension": ".py",
   "mimetype": "text/x-python",
   "name": "python",
   "nbconvert_exporter": "python",
   "pygments_lexer": "ipython3",
   "version": "3.9.19"
  },
  "toc": {
   "base_numbering": 1,
   "nav_menu": {},
   "number_sections": true,
   "sideBar": true,
   "skip_h1_title": true,
   "title_cell": "Table of Contents",
   "title_sidebar": "Contents",
   "toc_cell": false,
   "toc_position": {},
   "toc_section_display": true,
   "toc_window_display": false
  }
 },
 "nbformat": 4,
 "nbformat_minor": 2
}
